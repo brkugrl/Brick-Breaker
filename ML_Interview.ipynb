{
  "nbformat": 4,
  "nbformat_minor": 0,
  "metadata": {
    "colab": {
      "provenance": [],
      "authorship_tag": "ABX9TyPWhfGIDwjdTAWF3QT8w3lE",
      "include_colab_link": true
    },
    "kernelspec": {
      "name": "python3",
      "display_name": "Python 3"
    },
    "language_info": {
      "name": "python"
    }
  },
  "cells": [
    {
      "cell_type": "markdown",
      "metadata": {
        "id": "view-in-github",
        "colab_type": "text"
      },
      "source": [
        "<a href=\"https://colab.research.google.com/github/brkugrl/Brick-Breaker/blob/master/ML_Interview.ipynb\" target=\"_parent\"><img src=\"https://colab.research.google.com/assets/colab-badge.svg\" alt=\"Open In Colab\"/></a>"
      ]
    },
    {
      "cell_type": "code",
      "source": [
        "import numpy as np\n",
        "import matplotlib.pyplot as plt\n",
        "\n",
        "numberOfFamilies = 1000\n",
        "numberOfSamples = 10000\n",
        "\n",
        "\n",
        "class Person():\n",
        "  def __init__(self, familyID):\n",
        "    self.familyID = familyID\n",
        "  def getFamilyID(self):\n",
        "    return self.familyID\n",
        "\n",
        "class Population():\n",
        "  def __init__(self):\n",
        "    self.population = []\n",
        "  def addPerson(self, person):\n",
        "    self.population.append(person)\n",
        "  def getPopulationSize(self):\n",
        "    return(len(self.population))\n",
        "  def getRandomPerson(self):\n",
        "    return self.population[np.random.randint(0, len(self.population))]\n",
        "\n",
        "\n",
        "\n",
        "families = {i:[] for i in range(0,numberOfFamilies)}\n",
        "\n",
        "def updateFamilies(families, familyID, familyMember):\n",
        "  families[familyID].append(familyMember)\n",
        "\n",
        "\n",
        "\n",
        "population = Population()\n",
        "\n",
        "for l in range(numberOfFamilies):\n",
        "  sizeOfFamily = np.random.randint(1, 10)\n",
        "  for _ in range(sizeOfFamily):\n",
        "    familyMember = Person(l)\n",
        "    population.addPerson(familyMember)\n",
        "    updateFamilies(families, l, familyMember)\n",
        "\n",
        "hist = []\n",
        "totalSampleSize = 0\n",
        "for _ in range(numberOfSamples):\n",
        "  sampleFamilyID = (population.getRandomPerson()).getFamilyID()\n",
        "  sampleFamilySize = len(families[sampleFamilyID])\n",
        "  totalSampleSize += sampleFamilySize\n",
        "  hist.append(sampleFamilySize)\n",
        "\n",
        "plt.hist(hist, bins=9)\n",
        "plt.title('Sampled Family Size')\n",
        "plt.ylabel('number of samples')\n",
        "plt.xlabel('family size')\n",
        "plt.show()\n",
        "   \n",
        "\n",
        "hist2 = []\n",
        "for k in range(len(families)):\n",
        "  hist2.append(len(families[k]))\n",
        "\n",
        "plt.hist(hist2, bins=9)\n",
        "plt.title('Real Family Size')\n",
        "plt.ylabel('number of families')\n",
        "plt.xlabel('family size')\n",
        "plt.show()\n",
        "\n",
        "\n",
        "print('Sampled average family size:', totalSampleSize/numberOfSamples)\n",
        "print('Real average family size:', population.getPopulationSize()/numberOfFamilies)\n",
        "\n",
        "\n",
        "\n"
      ],
      "metadata": {
        "id": "__lay9VpkhVk",
        "colab": {
          "base_uri": "https://localhost:8080/",
          "height": 609
        },
        "outputId": "30d197aa-eebe-4e14-e108-afbc347e4ac2"
      },
      "execution_count": 9,
      "outputs": [
        {
          "output_type": "display_data",
          "data": {
            "text/plain": [
              "<Figure size 432x288 with 1 Axes>"
            ],
            "image/png": "[encoded data removed]"
          },
          "metadata": {
            "needs_background": "light"
          }
        },
        {
          "output_type": "display_data",
          "data": {
            "text/plain": [
              "<Figure size 432x288 with 1 Axes>"
            ],
            "image/png": "[encoded data removed]"
          },
          "metadata": {
            "needs_background": "light"
          }
        },
        {
          "output_type": "stream",
          "name": "stdout",
          "text": [
            "Sampled average family size: 6.4053\n",
            "Real average family size: 5.084\n"
          ]
        }
      ]
    },
    {
      "cell_type": "code",
      "source": [],
      "metadata": {
        "id": "Yqd6_Ac0og4v"
      },
      "execution_count": null,
      "outputs": []
    }
  ]
}